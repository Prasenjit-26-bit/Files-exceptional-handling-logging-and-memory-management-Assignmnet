{
  "nbformat": 4,
  "nbformat_minor": 0,
  "metadata": {
    "colab": {
      "provenance": []
    },
    "kernelspec": {
      "name": "python3",
      "display_name": "Python 3"
    },
    "language_info": {
      "name": "python"
    }
  },
  "cells": [
    {
      "cell_type": "markdown",
      "source": [
        "#Files, exceptional handling, logging and memory management"
      ],
      "metadata": {
        "id": "aEma5j9ixwTs"
      }
    },
    {
      "cell_type": "markdown",
      "source": [
        "1. What is the difference between interpreted and compiled languages.\n",
        "- interpreted languages translate and execute code line by line at runtime, while compiled languages translate the entire code into machine code before execution."
      ],
      "metadata": {
        "id": "QQ06e41WxwQG"
      }
    },
    {
      "cell_type": "markdown",
      "source": [
        "2. What is exception handling in Python.\n",
        "- a mechanism to manage errors or unexpected events (exceptions) that occur during program execution, allowing the program to continue running instead of crashing. It uses try, except, else, finally, and raise keywords to handle different aspects of error handling."
      ],
      "metadata": {
        "id": "XrB2SRZPxwNh"
      }
    },
    {
      "cell_type": "markdown",
      "source": [
        "3. What is the purpose of the finally block in exception handling.\n",
        "- The purpose of the finally block in exception handling is to ensure that a specific block of code, typically for resource cleanup or closing connections, is always executed when the try block exits, regardless of whether an exception occurred or not."
      ],
      "metadata": {
        "id": "_pY5DYaPxwK2"
      }
    },
    {
      "cell_type": "markdown",
      "source": [
        "4. What is logging in Python.\n",
        "- In Python, logging is a powerful mechanism for tracking events, debugging issues, and monitoring the health of your applications by recording information about errors, warnings, and other events during program execution"
      ],
      "metadata": {
        "id": "u-I565WkxwID"
      }
    },
    {
      "cell_type": "markdown",
      "source": [
        "5. What is the significance of the __del__ method in Python.\n",
        "- In Python, the __del__ method, also known as a destructor or finalizer, is automatically called by the garbage collector when an object is about to be destroyed, allowing for cleanup of resources before the object is deallocated."
      ],
      "metadata": {
        "id": "PZCGoQyyxwFY"
      }
    },
    {
      "cell_type": "markdown",
      "source": [
        "6. What is the difference between import and from ... import in Python.\n",
        "- In general, you should use the import statement when you need to use many attributes from a module, or when the module name is short and easy to remember. You should use the from statement when you only need to use a few attributes from a module, or when the module name is long and hard to remember."
      ],
      "metadata": {
        "id": "_x8jukFwxwCl"
      }
    },
    {
      "cell_type": "markdown",
      "source": [
        "7.  How can you handle multiple exceptions in Python?\n",
        "- To handle multiple exceptions in Python, you can use multiple except blocks, each handling a specific exception type, or you can catch multiple exceptions in a single except block by specifying them as a tuple.\n",
        "Here's a breakdown:"
      ],
      "metadata": {
        "id": "oTor-s7Axv_y"
      }
    },
    {
      "cell_type": "markdown",
      "source": [
        "8. What is the purpose of the with statement when handling files in Python?\n",
        "- The with statement in Python, when used with file handling, ensures that a file is automatically closed after it's no longer needed, even if errors occur, simplifying resource management and preventing potential issues"
      ],
      "metadata": {
        "id": "ZZi38fFbxv6D"
      }
    },
    {
      "cell_type": "markdown",
      "source": [
        "9. What is the difference between multithreading and multiprocessing?\n",
        "- Multithreading involves running multiple threads within a single process, while multiprocessing involves running multiple processes independently on different cores, each with its own memory space."
      ],
      "metadata": {
        "id": "LYTR4zjWxv4E"
      }
    },
    {
      "cell_type": "markdown",
      "source": [
        "10. What are the advantages of using logging in a program?\n",
        "- Logging in programming offers numerous advantages, including easier debugging, performance monitoring, security auditing, and compliance, ultimately leading to more robust and reliable applications."
      ],
      "metadata": {
        "id": "RlED2Fxkxv1S"
      }
    },
    {
      "cell_type": "markdown",
      "source": [
        "11. What is memory management in Python?\n",
        "- In Python, memory management is handled automatically through a combination of reference counting and garbage collection, ensuring efficient memory usage and preventing leaks without requiring manual memory management by the programmer."
      ],
      "metadata": {
        "id": "R2zjxjQqxvzD"
      }
    },
    {
      "cell_type": "markdown",
      "source": [
        "12. What are the basic steps involved in exception handling in Python?\n",
        "- In Python, exception handling uses try, except, else, and finally blocks to gracefully manage errors or unexpected conditions during program execution, preventing crashes and enabling error recovery."
      ],
      "metadata": {
        "id": "yyc2vCN3962j"
      }
    },
    {
      "cell_type": "markdown",
      "source": [
        "13. Why is memory management important in Python?\n",
        "- Memory management is crucial in Python because it directly impacts performance, resource usage, and the stability of your programs. By understanding how Python manages memory, you can write more efficient code that avoids memory leaks and optimizes resource allocation."
      ],
      "metadata": {
        "id": "mfQgs2a7-OKV"
      }
    },
    {
      "cell_type": "markdown",
      "source": [
        "14. What is the role of try and except in exception handling?\n",
        "- In exception handling, the try block tests a code section for potential errors, while the except block handles the error or exception if one occurs, preventing the program from crashing."
      ],
      "metadata": {
        "id": "hl0SVI1B-ZJ8"
      }
    },
    {
      "cell_type": "markdown",
      "source": [
        "15. How does Python's garbage collection system work?\n",
        "- Python's garbage collection uses a hybrid approach of reference counting and generational garbage collection to automatically reclaim memory occupied by objects that are no longer in use, preventing memory leaks and optimizing performance."
      ],
      "metadata": {
        "id": "OIcUFz51-kqx"
      }
    },
    {
      "cell_type": "markdown",
      "source": [
        "16. What is the purpose of the else block in exception handling?\n",
        "- In exception handling, the else block is executed only if no exceptions are raised within the preceding try block. It allows you to execute code that should run only when the try block executes successfully, enhancing the program's flow and clarity."
      ],
      "metadata": {
        "id": "lvm0ze7J-tZ4"
      }
    },
    {
      "cell_type": "markdown",
      "source": [
        "17. What are the common logging levels in Python?\n",
        "- Python's logging module has five common levels: DEBUG, INFO, WARNING, ERROR, and CRITICAL, in increasing order of severity. Use logging.basicConfig(level=logging.DEBUG) to enable logging and capture messages at or above the specified level."
      ],
      "metadata": {
        "id": "ZKCbg0VH-4qL"
      }
    },
    {
      "cell_type": "markdown",
      "source": [
        "18. What is the difference between os.fork() and multiprocessing in Python?\n",
        "- os.fork() creates a child process by duplicating the current process but is Unix-only. The multiprocessing module is cross-platform, spawns independent processes with separate memory, and bypasses the GIL for true parallelism."
      ],
      "metadata": {
        "id": "tguPjf20_WIf"
      }
    },
    {
      "cell_type": "markdown",
      "source": [
        "19. What is the importance of closing a file in Python?\n",
        "- Closing a file is a crucial part of file management in programming, as it ensures the release of system resources, data integrity, and prevents data corruption. It is essential to close files after using them to maintain the stability and reliability of any application that involves file handling."
      ],
      "metadata": {
        "id": "eH_t9tJ4_kM8"
      }
    },
    {
      "cell_type": "markdown",
      "source": [
        "20. What is the difference between file.read() and file.readline() in Python?\n",
        "- In Python, file.read() reads the entire file content as a single string, while file.readline() reads and returns only the next line from the file as a string."
      ],
      "metadata": {
        "id": "kMJcb_l4_6Zc"
      }
    },
    {
      "cell_type": "markdown",
      "source": [
        "21. What is the logging module in Python used for?\n",
        "- The logging module in Python is used for tracking events during program execution, helping with debugging, monitoring, and error reporting. It provides different log levels (DEBUG, INFO, WARNING, ERROR, CRITICAL) and allows logging to files, consoles, or external systems."
      ],
      "metadata": {
        "id": "yy0mTUwmAD5E"
      }
    },
    {
      "cell_type": "markdown",
      "source": [
        "22. What is the os module in Python used for in file handling?\n",
        "- Python has a built-in os module with methods for interacting with the operating system, like creating files and directories, management of files and directories, input, output, environment variables, process management, etc."
      ],
      "metadata": {
        "id": "IH1ooIC5AUJT"
      }
    },
    {
      "cell_type": "markdown",
      "source": [
        "23. What are the challenges associated with memory management in Python?\n",
        "- Python's automatic memory management, while simplifying development, presents challenges like potential memory leaks due to circular references and the need for memory profiling tools to identify and address inefficiencies."
      ],
      "metadata": {
        "id": "VPK4HDJlAdej"
      }
    },
    {
      "cell_type": "markdown",
      "source": [
        "24.  How do you raise an exception manually in Python?\n",
        "- As a Python developer you can choose to throw an exception if a condition occurs. To throw (or raise) an exception, use the raise keyword."
      ],
      "metadata": {
        "id": "V5TokkzCAqF0"
      }
    },
    {
      "cell_type": "markdown",
      "source": [
        "25. Why is it important to use multithreading in certain applications?\n",
        "- Multithreading is crucial for applications demanding high performance, responsiveness, and efficient resource utilization by enabling concurrent execution of tasks, improving overall application efficiency and user experience."
      ],
      "metadata": {
        "id": "KsWzbT1mA0ws"
      }
    },
    {
      "cell_type": "markdown",
      "source": [
        "#Practical Questions"
      ],
      "metadata": {
        "id": "gzhAc9tABDQi"
      }
    },
    {
      "cell_type": "code",
      "source": [
        "# 1. How can you open a file for writing in Python and write a string to it?\n",
        "\n",
        "import os\n",
        "\n",
        "with open(\"example.txt\", \"w\") as file:\n",
        "    file.write(\"Hello, this is a test!\")"
      ],
      "metadata": {
        "id": "tO1-umAdBHaC"
      },
      "execution_count": 1,
      "outputs": []
    },
    {
      "cell_type": "code",
      "source": [
        "# 2. Write a Python program to read the contents of a file and print each line.\n",
        "\n",
        "with open(\"example.txt\", \"r\") as file:\n",
        "    for line in file:\n",
        "        print(line)"
      ],
      "metadata": {
        "colab": {
          "base_uri": "https://localhost:8080/"
        },
        "id": "F2QeoEpIBxls",
        "outputId": "effb6249-df87-435f-ac55-810b1bc1671c"
      },
      "execution_count": 2,
      "outputs": [
        {
          "output_type": "stream",
          "name": "stdout",
          "text": [
            "Hello, this is a test!\n"
          ]
        }
      ]
    },
    {
      "cell_type": "code",
      "source": [
        "#3. How would you handle a case where the file doesn't exist while trying to open it for reading?\n",
        "\n",
        "try:\n",
        "    with open(\"example.txt\", \"r\") as file:\n",
        "        content = file.read()\n",
        "        print(content)\n",
        "except FileNotFoundError:\n",
        "    print(\"Error: The file does not exist.\")\n"
      ],
      "metadata": {
        "colab": {
          "base_uri": "https://localhost:8080/"
        },
        "id": "Gb8x_V0QB8DL",
        "outputId": "33f38530-80af-4a8d-d89e-30bb521d2a84"
      },
      "execution_count": 3,
      "outputs": [
        {
          "output_type": "stream",
          "name": "stdout",
          "text": [
            "Hello, this is a test!\n"
          ]
        }
      ]
    },
    {
      "cell_type": "code",
      "source": [
        "# 4. Write a Python script that reads from one file and writes its content to another file.\n",
        "\n",
        "with open(\"example.txt\", \"r\") as source_file:\n",
        "    content = source_file.read()\n",
        "\n",
        "with open(\"output.txt\", \"w\") as destination_file:\n",
        "    destination_file.write(content)"
      ],
      "metadata": {
        "id": "y5WaNV7iCRVn"
      },
      "execution_count": 4,
      "outputs": []
    },
    {
      "cell_type": "code",
      "source": [
        "# 5. How would you catch and handle division by zero error in Python?\n",
        "\n",
        "try:\n",
        "    result = 10 / 0\n",
        "except ZeroDivisionError:\n",
        "    print(\"Error: Division by zero is not allowed.\")"
      ],
      "metadata": {
        "colab": {
          "base_uri": "https://localhost:8080/"
        },
        "id": "ypT9owPECdDq",
        "outputId": "fb7a6876-00a5-4869-b728-669759dc2a56"
      },
      "execution_count": 5,
      "outputs": [
        {
          "output_type": "stream",
          "name": "stdout",
          "text": [
            "Error: Division by zero is not allowed.\n"
          ]
        }
      ]
    },
    {
      "cell_type": "code",
      "source": [
        "# 6. Write a Python program that logs an error message to a log file when a division by zero exception occurs.\n",
        "\n",
        "import logging\n",
        "\n",
        "logging.basicConfig(filename=\"error.log\", level=logging.ERROR)\n",
        "\n",
        "try:\n",
        "    result = 10 / 0\n",
        "except ZeroDivisionError:\n",
        "    logging.error(\"Division by zero error occurred.\")\n"
      ],
      "metadata": {
        "colab": {
          "base_uri": "https://localhost:8080/"
        },
        "id": "eEhmIqVrCkWe",
        "outputId": "b609e40d-ea75-4ceb-de6b-6300f3de9abe"
      },
      "execution_count": 6,
      "outputs": [
        {
          "output_type": "stream",
          "name": "stderr",
          "text": [
            "ERROR:root:Division by zero error occurred.\n"
          ]
        }
      ]
    },
    {
      "cell_type": "code",
      "source": [
        "# 7. How do you log information at different levels (INFO, ERROR, WARNING) in Python using the logging module?\n",
        "\n",
        "import logging\n",
        "\n",
        "logging.basicConfig(filename=\"log.txt\", level=logging.INFO)\n",
        "\n",
        "logging.info(\"This is an informational message.\")\n",
        "logging.warning(\"This is a warning message.\")\n",
        "logging.error(\"This is an error message.\")"
      ],
      "metadata": {
        "id": "SvD76HmiCt-0"
      },
      "execution_count": null,
      "outputs": []
    },
    {
      "cell_type": "code",
      "source": [
        "# 8. Write a program to handle a file opening error using exception handling.\n",
        "\n",
        "try:\n",
        "    with open(\"nonexistent_file.txt\", \"r\") as file:\n",
        "        content = file.read()\n",
        "except FileNotFoundError:\n",
        "    print(\"Error: The file does not exist.\")"
      ],
      "metadata": {
        "colab": {
          "base_uri": "https://localhost:8080/"
        },
        "id": "H9vxYKD6C1k5",
        "outputId": "87d7902f-789c-4e0c-e8a6-fe7168fa4d6b"
      },
      "execution_count": 7,
      "outputs": [
        {
          "output_type": "stream",
          "name": "stdout",
          "text": [
            "Error: The file does not exist.\n"
          ]
        }
      ]
    },
    {
      "cell_type": "code",
      "source": [
        "# 9. How can you read a file line by line and store its content in a list in Python?\n",
        "\n",
        "with open(\"example.txt\", \"r\") as file:\n",
        "    lines = file.readlines()\n",
        "\n",
        "for line in lines:\n",
        "    print(line)"
      ],
      "metadata": {
        "colab": {
          "base_uri": "https://localhost:8080/"
        },
        "id": "CIJzWXQRDDSA",
        "outputId": "49bba0b8-8007-4883-cd64-bde9ee466c39"
      },
      "execution_count": 13,
      "outputs": [
        {
          "output_type": "stream",
          "name": "stdout",
          "text": [
            "Hello, this is a test!\n"
          ]
        }
      ]
    },
    {
      "cell_type": "code",
      "source": [
        "# 10. How can you append data to an existing file in Python?\n",
        "\n",
        "with open(\"example.txt\", \"a\") as file:\n",
        "    file.write(\"\\nAppended line.\")"
      ],
      "metadata": {
        "id": "JAj78gdaDyKY"
      },
      "execution_count": 14,
      "outputs": []
    },
    {
      "cell_type": "code",
      "source": [
        "# 11. Write a Python program that uses a try-except block to handle an error when attempting to access a dictionary key that doesn't exist.\n",
        "\n",
        "my_dict = {\"a\": 1, \"b\": 2}\n",
        "\n",
        "try:\n",
        "    value = my_dict[\"c\"]\n",
        "except KeyError:\n",
        "    print(\"Error: Key does not exist in the dictionary.\")"
      ],
      "metadata": {
        "colab": {
          "base_uri": "https://localhost:8080/"
        },
        "id": "koUx9s5OD2Ux",
        "outputId": "317536f6-ebf4-4e22-fe96-66286eafc5b1"
      },
      "execution_count": 15,
      "outputs": [
        {
          "output_type": "stream",
          "name": "stdout",
          "text": [
            "Error: Key does not exist in the dictionary.\n"
          ]
        }
      ]
    },
    {
      "cell_type": "code",
      "source": [
        "# 12. Write a program that demonstrates using multiple except blocks to handle different types of exceptions.\n",
        "\n",
        "try:\n",
        "    result = 10 / 0\n",
        "except ZeroDivisionError:\n",
        "    print(\"Error: Division by zero.\")\n",
        "except ValueError:\n",
        "    print(\"Error: Invalid value.\")\n",
        "except TypeError:\n",
        "    print(\"Error: Type mismatch.\")\n",
        "except Exception as e:\n",
        "    print(f\"An unexpected error occurred: {e}\")"
      ],
      "metadata": {
        "colab": {
          "base_uri": "https://localhost:8080/"
        },
        "id": "cO59FgWGEEss",
        "outputId": "644232cb-b843-4f48-cebd-81b799672c7b"
      },
      "execution_count": 25,
      "outputs": [
        {
          "output_type": "stream",
          "name": "stdout",
          "text": [
            "Error: Division by zero.\n"
          ]
        }
      ]
    },
    {
      "cell_type": "code",
      "source": [
        "# 13. How would you check if a file exists before attempting to read it in Python?\n",
        "\n",
        "import os\n",
        "\n",
        "if os.path.exists(\"example.txt\"):\n",
        "    with open(\"example.txt\", \"r\") as file:\n",
        "        content = file.read()\n",
        "        print(content)\n",
        "else:\n",
        "    print(\"File does not exist.\")\n"
      ],
      "metadata": {
        "colab": {
          "base_uri": "https://localhost:8080/"
        },
        "id": "sBgM7VjqE-gQ",
        "outputId": "56506d43-eb1b-440b-cbca-c5ff93c320b5"
      },
      "execution_count": 26,
      "outputs": [
        {
          "output_type": "stream",
          "name": "stdout",
          "text": [
            "Hello, this is a test!\n",
            "Appended line.\n"
          ]
        }
      ]
    },
    {
      "cell_type": "code",
      "source": [
        "# 14. Write a program that uses the logging module to log both informational and error messages.\n",
        "\n",
        "import logging\n",
        "\n",
        "logging.basicConfig(filename=\"log.txt\", level=logging.INFO)\n",
        "\n",
        "logging.info(\"This is an informational message.\")\n",
        "logging.error(\"This is an error message.\")"
      ],
      "metadata": {
        "colab": {
          "base_uri": "https://localhost:8080/"
        },
        "id": "-H15omKVFfX8",
        "outputId": "3cb18917-987d-479f-a4a2-422c4d09e05a"
      },
      "execution_count": 27,
      "outputs": [
        {
          "output_type": "stream",
          "name": "stderr",
          "text": [
            "ERROR:root:This is an error message.\n"
          ]
        }
      ]
    },
    {
      "cell_type": "code",
      "source": [
        "# 15. Write a Python program that prints the content of a file and handles the case when the file is empty.\n",
        "\n",
        "try:\n",
        "    with open(\"example.txt\", \"r\") as file:\n",
        "        content = file.read()\n",
        "        if content:\n",
        "            print(content)\n",
        "        else:\n",
        "            print(\"File is empty.\")\n",
        "except FileNotFoundError:\n",
        "    print"
      ],
      "metadata": {
        "colab": {
          "base_uri": "https://localhost:8080/"
        },
        "id": "d1Imv2_xFroM",
        "outputId": "607112a7-2c5e-400d-b0be-80f6cbe6a6e2"
      },
      "execution_count": 28,
      "outputs": [
        {
          "output_type": "stream",
          "name": "stdout",
          "text": [
            "Hello, this is a test!\n",
            "Appended line.\n"
          ]
        }
      ]
    },
    {
      "cell_type": "code",
      "source": [
        "pip install memory_profiler"
      ],
      "metadata": {
        "colab": {
          "base_uri": "https://localhost:8080/"
        },
        "id": "UTSlxcREHpU2",
        "outputId": "da700101-0c48-4470-8238-7b86904a74e9"
      },
      "execution_count": 35,
      "outputs": [
        {
          "output_type": "stream",
          "name": "stdout",
          "text": [
            "Collecting memory_profiler\n",
            "  Downloading memory_profiler-0.61.0-py3-none-any.whl.metadata (20 kB)\n",
            "Requirement already satisfied: psutil in /usr/local/lib/python3.11/dist-packages (from memory_profiler) (5.9.5)\n",
            "Downloading memory_profiler-0.61.0-py3-none-any.whl (31 kB)\n",
            "Installing collected packages: memory_profiler\n",
            "Successfully installed memory_profiler-0.61.0\n"
          ]
        }
      ]
    },
    {
      "cell_type": "code",
      "source": [
        "# 16. Demonstrate how to use memory profiling to check the memory usage of a small program.\n",
        "\n",
        "import memory_profiler\n",
        "\n",
        "@memory_profiler.profile\n",
        "def my_function():\n",
        "    # Some code here\n",
        "    pass\n",
        "\n",
        "my_function()"
      ],
      "metadata": {
        "colab": {
          "base_uri": "https://localhost:8080/"
        },
        "id": "BxlPhxw2F-JL",
        "outputId": "85242f01-db7d-4146-f38e-3a6c3a4cd749"
      },
      "execution_count": 36,
      "outputs": [
        {
          "output_type": "stream",
          "name": "stderr",
          "text": [
            "\n",
            "PYDEV DEBUGGER WARNING:\n",
            "sys.settrace() should not be used when the debugger is being used.\n",
            "This may cause the debugger to stop working correctly.\n",
            "If this is needed, please check: \n",
            "http://pydev.blogspot.com/2007/06/why-cant-pydev-debugger-work-with.html\n",
            "to see how to restore the debug tracing back correctly.\n",
            "Call Location:\n",
            "  File \"/usr/local/lib/python3.11/dist-packages/memory_profiler.py\", line 847, in enable\n",
            "    sys.settrace(self.trace_memory_usage)\n",
            "\n",
            "\n",
            "PYDEV DEBUGGER WARNING:\n",
            "sys.settrace() should not be used when the debugger is being used.\n",
            "This may cause the debugger to stop working correctly.\n",
            "If this is needed, please check: \n",
            "http://pydev.blogspot.com/2007/06/why-cant-pydev-debugger-work-with.html\n",
            "to see how to restore the debug tracing back correctly.\n",
            "Call Location:\n",
            "  File \"/usr/local/lib/python3.11/dist-packages/memory_profiler.py\", line 850, in disable\n",
            "    sys.settrace(self._original_trace_function)\n",
            "\n"
          ]
        },
        {
          "output_type": "stream",
          "name": "stdout",
          "text": [
            "ERROR: Could not find file <ipython-input-36-6515dea9b5a4>\n",
            "NOTE: %mprun can only be used on functions defined in physical files, and not in the IPython environment.\n"
          ]
        }
      ]
    },
    {
      "cell_type": "code",
      "source": [
        "# 17. Write a Python program to create and write a list of numbers to a file, one number per line.\n",
        "\n",
        "numbers = [1, 2, 3, 4, 5, 6, 7, 8, 9, 10]\n",
        "\n",
        "with open(\"numbers.txt\", \"w\") as file:\n",
        "    for number in numbers:\n",
        "        file.write(f\"{number}\\n\")\n",
        "\n",
        "print(\"Numbers have been written to numbers.txt\")\n"
      ],
      "metadata": {
        "colab": {
          "base_uri": "https://localhost:8080/"
        },
        "id": "sEGXr7KnGVPN",
        "outputId": "98f800ee-5e6d-4d73-cbb6-8e6a32364a17"
      },
      "execution_count": 37,
      "outputs": [
        {
          "output_type": "stream",
          "name": "stdout",
          "text": [
            "Numbers have been written to numbers.txt\n"
          ]
        }
      ]
    },
    {
      "cell_type": "code",
      "source": [
        "# 18. How would you implement a basic logging setup that logs to a file with rotation after 1MB?\n",
        "\n",
        "import logging\n",
        "from logging.handlers import RotatingFileHandler\n",
        "\n",
        "logging.basicConfig(level=logging.INFO)\n",
        "\n",
        "handler = RotatingFileHandler(\"app.log\", maxBytes=1000000, backupCount=5)\n",
        "formatter = logging.Formatter(\"%(asctime)s - %(levelname)s - %(message)s\")"
      ],
      "metadata": {
        "id": "eH5RF8DRGccs"
      },
      "execution_count": 38,
      "outputs": []
    },
    {
      "cell_type": "code",
      "source": [
        "# 19. Write a program that handles both IndexError and KeyError using a try-except block.\n",
        "\n",
        "try:\n",
        "    my_list = [1, 2, 3]\n",
        "    value = my_list[5]\n",
        "except IndexError:\n",
        "    print(\"Error: Index out of range.\")\n",
        "except KeyError:\n",
        "    print(\"Error: Key not found in dictionary.\")"
      ],
      "metadata": {
        "colab": {
          "base_uri": "https://localhost:8080/"
        },
        "id": "OgjKVrlJGiLl",
        "outputId": "a5047017-4385-4325-bd2c-9ea4690a0c10"
      },
      "execution_count": 39,
      "outputs": [
        {
          "output_type": "stream",
          "name": "stdout",
          "text": [
            "Error: Index out of range.\n"
          ]
        }
      ]
    },
    {
      "cell_type": "code",
      "source": [
        "#20. How would you open a file and read its contents using a context manager in Python.\n",
        "\n",
        "with open(\"example.txt\", \"r\") as file:\n",
        "    content = file.read()\n",
        "    print(content)"
      ],
      "metadata": {
        "colab": {
          "base_uri": "https://localhost:8080/"
        },
        "id": "qgzzOEl_GqYZ",
        "outputId": "c1c32aa1-fe49-4f5f-aebe-3062bda6c282"
      },
      "execution_count": 43,
      "outputs": [
        {
          "output_type": "stream",
          "name": "stdout",
          "text": [
            "Hello, this is a test!\n",
            "Appended line.\n"
          ]
        }
      ]
    },
    {
      "cell_type": "code",
      "source": [
        "# 21. Write a Python program that reads a file and prints the number of occurrences of a specific word.\n",
        "\n",
        "word_to_count = \"hello\"\n",
        "\n",
        "with open(\"example.txt\", \"r\") as file:\n",
        "    content = file.read()\n",
        "    word_count = content.lower().count"
      ],
      "metadata": {
        "id": "sgwAUPvFGtRy"
      },
      "execution_count": 45,
      "outputs": []
    },
    {
      "cell_type": "code",
      "source": [
        "# 22. How can you check if a file is empty before attempting to read its contents?\n",
        "\n",
        "if os.path.getsize(\"example.txt\") > 0:\n",
        "    with open(\"example.txt\", \"r\") as file:\n",
        "        content = file.read()\n",
        "        print(content)\n",
        "else:\n",
        "    print(\"File is empty.\")"
      ],
      "metadata": {
        "colab": {
          "base_uri": "https://localhost:8080/"
        },
        "id": "Qrwuo2JEGzIf",
        "outputId": "d5752b33-0408-4a75-d3a1-b59e8a659fc7"
      },
      "execution_count": 46,
      "outputs": [
        {
          "output_type": "stream",
          "name": "stdout",
          "text": [
            "Hello, this is a test!\n",
            "Appended line.\n"
          ]
        }
      ]
    },
    {
      "cell_type": "code",
      "source": [
        "# 23. Write a Python program that writes to a log file when an error occurs during file handling.\n",
        "\n",
        "import logging\n",
        "\n",
        "logging.basicConfig(filename=\"error.log\", level=logging.ERROR)\n",
        "\n",
        "try:\n",
        "    with open(\"file_does_not_exist.txt\", \"r\") as file:\n",
        "        content = file.read()\n",
        "except Exception as e:\n",
        "    logging.error(f\"Error: {e}\")\n",
        "    print(\"An error occurred. Check 'error.log' for details.\")\n"
      ],
      "metadata": {
        "colab": {
          "base_uri": "https://localhost:8080/"
        },
        "id": "qws4zUDVG55c",
        "outputId": "bdef4855-d674-4d02-bd4e-b3582dc8601c"
      },
      "execution_count": 50,
      "outputs": [
        {
          "output_type": "stream",
          "name": "stderr",
          "text": [
            "ERROR:root:Error: [Errno 2] No such file or directory: 'file_does_not_exist.txt'\n"
          ]
        },
        {
          "output_type": "stream",
          "name": "stdout",
          "text": [
            "An error occurred. Check 'error.log' for details.\n"
          ]
        }
      ]
    }
  ]
}